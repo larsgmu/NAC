{
  "nbformat": 4,
  "nbformat_minor": 0,
  "metadata": {
    "colab": {
      "name": "Project2.ipynb",
      "provenance": [],
      "collapsed_sections": []
    },
    "kernelspec": {
      "name": "python3",
      "display_name": "Python 3"
    },
    "language_info": {
      "name": "python"
    }
  },
  "cells": [
    {
      "cell_type": "markdown",
      "metadata": {
        "id": "v7m7zT9P3quV"
      },
      "source": [
        "# Kruskal-Wallis and Post hoc dunn test\n",
        "\n",
        "Imports utilities from tournment that are already prepared as a json file. Adds them to their corrseponding domain list, runs stats.kruskal, to see in print if p-value is significant or not. Then runs post hoc Dunn with the function https://scikit-posthocs.readthedocs.io/en/latest/generated/scikit_posthocs.posthoc_dunn/ and saves the result to a .csv file. Inspired by this: https://colab.research.google.com/drive/1B_k7Tx7YPV9Mx3qwgR8jeMwrZRKAj_sD?usp=sharing\n",
        "\n"
      ]
    },
    {
      "cell_type": "markdown",
      "metadata": {
        "id": "5inY4xIR50UA"
      },
      "source": [
        "## Imports"
      ]
    },
    {
      "cell_type": "code",
      "metadata": {
        "id": "irLwN-oVuH5I"
      },
      "source": [
        "!pip install researchpy\n",
        "!pip install statsmodels\n",
        "!pip install scikit-posthocs\n",
        "\n",
        "import json\n",
        "import pandas as pd\n",
        "from scipy import stats\n",
        "from scikit_posthocs import posthoc_dunn\n",
        "import matplotlib.pyplot as plt\n",
        "import numpy as np\n",
        "import statistics\n",
        "\n",
        "#Path to JSON file with all utilities for agents\n",
        "all_utils_path = 'utils.json'\n"
      ],
      "execution_count": null,
      "outputs": []
    },
    {
      "cell_type": "markdown",
      "metadata": {
        "id": "A3JrnlLS56Ij"
      },
      "source": [
        "## Prepare Data"
      ]
    },
    {
      "cell_type": "code",
      "metadata": {
        "id": "QeNRLzJ858L-"
      },
      "source": [
        "json_dict = {}\n",
        "\n",
        "populations = []\n",
        "populations_means = []\n",
        "\n",
        "ivc_means = []\n",
        "ivc = []\n",
        "\n",
        "party_means = []\n",
        "party = []\n",
        "\n",
        "engzim_means = []\n",
        "engzim = []\n",
        "\n",
        "with open(all_utils_path) as json_file:\n",
        "    json_dict = json.load(json_file)\n",
        "\n",
        "for key in json_dict:\n",
        "    if 'boa' in key:\n",
        "        float_lst = [float(i) for i in json_dict[key]]\n",
        "\n",
        "        populations.append(float_lst)\n",
        "        populations_means.append(statistics.mean(float_lst))\n",
        "\n",
        "        ivc_means.append(statistics.mean(float_lst[0:44]))\n",
        "        ivc.append(float_lst[0:44])\n",
        "\n",
        "        party_means.append(statistics.mean(float_lst[44:88]))\n",
        "        party.append(float_lst[44:88])\n",
        "\n",
        "        engzim_means.append(statistics.mean(float_lst[88:132]))\n",
        "        engzim.append(float_lst[88:132])\n"
      ],
      "execution_count": null,
      "outputs": []
    },
    {
      "cell_type": "markdown",
      "metadata": {
        "id": "Asjztzx15l2j"
      },
      "source": [
        "## Kruskal Wallis\n"
      ]
    },
    {
      "cell_type": "code",
      "metadata": {
        "id": "AP9PCiGr3qKT"
      },
      "source": [
        "\n",
        "# Combination/average of all utilities\n",
        "print('Combination of utilities from all the domains')\n",
        "print(stats.kruskal(*populations))\n",
        "posthoc_dunn(populations, p_adjust=\"bonferroni\").to_csv('all.csv')\n",
        "\n",
        "# Domain based posthoc Dunn\n",
        "print('\\nItex vs Cypress domain')\n",
        "print(stats.kruskal(*ivc))\n",
        "posthoc_dunn(ivc, p_adjust=\"bonferroni\").to_csv('ivc.csv')\n",
        "\n",
        "print('\\nParty Domain')\n",
        "print(stats.kruskal(*party))\n",
        "posthoc_dunn(party, p_adjust=\"bonferroni\").to_csv('party.csv')\n",
        "\n",
        "print('\\nEngland Zimbabwe Domain')\n",
        "print(stats.kruskal(*engzim))\n",
        "posthoc_dunn(engzim, p_adjust=\"bonferroni\").to_csv('engzim.csv')"
      ],
      "execution_count": null,
      "outputs": []
    }
  ]
}